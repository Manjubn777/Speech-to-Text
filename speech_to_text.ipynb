{
  "nbformat": 4,
  "nbformat_minor": 0,
  "metadata": {
    "kernelspec": {
      "display_name": "Python 3",
      "language": "python",
      "name": "python3"
    },
    "language_info": {
      "codemirror_mode": {
        "name": "ipython",
        "version": 3
      },
      "file_extension": ".py",
      "mimetype": "text/x-python",
      "name": "python",
      "nbconvert_exporter": "python",
      "pygments_lexer": "ipython3",
      "version": "3.6.5"
    },
    "colab": {
      "name": "speech to text.ipynb",
      "provenance": [],
      "collapsed_sections": [],
      "toc_visible": true
    },
    "accelerator": "GPU"
  },
  "cells": [
    {
      "cell_type": "markdown",
      "metadata": {
        "id": "WvVZJDR-G0c0"
      },
      "source": [
        "## Probem statement:\n",
        "\n",
        "After the success of Tap Portable Bluetooth Speaker, Amazon is about to launch a new version in the market. To understand what features customers liked, Amazon did a focus group discussion with some selected customers - the audio in the discussions has been recorded.\n",
        "The reviews that the panelists gave to Tap is what interests Amazon. \n",
        "\n",
        "As the data scientist, your task is convert the given audio file to text, assess which features of the bluetooth speaker are being talked about in the audio reviews. In Module 3, we extracted the top 15 features from the reviews. We can use this as our feature list, and assess which of these are present in the audio reviews.\n",
        "\n",
        "Also, for future utility and for immediate analysis, you need to make a process/function that captures audio from the microphone, converts to text, analyses, and returns which of the features are being discussed in the audio."
      ]
    },
    {
      "cell_type": "markdown",
      "metadata": {
        "id": "6C8nzVkyG0c1"
      },
      "source": [
        "Steps - \n",
        "\n",
        "1. From speech_recognition module, import the sr utility. Instantiate the Recognizer class from the utility.\n",
        "2. Load the given audio file \"Recording2.wav\" - this contains a sample audio for you to get comfortable with the module, use the 'AudioFile' method\n",
        "3. With this as source, 'record' the audio from the file\n",
        "4. Using 'recognize_google' method, convert the audio to text\n",
        "5. Create a function to return the text for any given audio file (.wav format) as input.\n",
        "6. Apply this function to the file 'Tap Review.wav' to extract the text from the audio review from the Amazon Tap focus group discsussions\n",
        "7. Pre-process the text - tokenize into individual terms using NLTKs word_tokenize\n",
        "8. Define feature_list as list of features of the product, containing the following terms -\n",
        " - \"echo\", \"alexa\", \"music\", \"sound\", \"button\",\"bluetooth\", \"voice\", \"battery\", \"dot\", \"phone\"\n",
        "9. Identify which of the features are being talked of in the audio review\n",
        "10. Recording from mic using the Microphone method \n",
        " - instantiate\n",
        " - with the mic as source, 'listen' to the mic - you can say anything you like using your own microphone\n",
        " - speak a dummy review into the microphone, use the function from earlier to identify the product features being discussed in the audio"
      ]
    },
    {
      "cell_type": "markdown",
      "metadata": {
        "id": "3RVVGYXvG0c1"
      },
      "source": [
        "### 1. From speech_recognition module, import the sr utility. Instantiate the Recognizer class from the utility."
      ]
    },
    {
      "cell_type": "code",
      "metadata": {
        "colab": {
          "base_uri": "https://localhost:8080/"
        },
        "id": "0pzBj8kkG0c1",
        "outputId": "56ed42ac-c712-4663-d9a2-84ab3a80600a"
      },
      "source": [
        "!pip install speechrecognition\n",
        "!pip install pyAudio\n",
        "!apt install libasound2-dev portaudio19-dev libportaudio2 libportaudiocpp0 ffmpeg\n",
        "import speech_recognition as sr"
      ],
      "execution_count": 1,
      "outputs": [
        {
          "output_type": "stream",
          "text": [
            "Requirement already satisfied: speechrecognition in /usr/local/lib/python3.7/dist-packages (3.8.1)\n",
            "Collecting pyAudio\n",
            "  Using cached https://files.pythonhosted.org/packages/ab/42/b4f04721c5c5bfc196ce156b3c768998ef8c0ae3654ed29ea5020c749a6b/PyAudio-0.2.11.tar.gz\n",
            "Building wheels for collected packages: pyAudio\n",
            "  Building wheel for pyAudio (setup.py) ... \u001b[?25l\u001b[?25hdone\n",
            "  Created wheel for pyAudio: filename=PyAudio-0.2.11-cp37-cp37m-linux_x86_64.whl size=52579 sha256=cedb2dd12b02c6d5b94aec0b2770d053f618fc93fd7f12e61523b6b7865a9f63\n",
            "  Stored in directory: /root/.cache/pip/wheels/f4/a8/a4/292214166c2917890f85b2f72a8e5f13e1ffa527c4200dcede\n",
            "Successfully built pyAudio\n",
            "Installing collected packages: pyAudio\n",
            "Successfully installed pyAudio-0.2.11\n",
            "Reading package lists... Done\n",
            "Building dependency tree       \n",
            "Reading state information... Done\n",
            "libportaudio2 is already the newest version (19.6.0-1).\n",
            "libportaudiocpp0 is already the newest version (19.6.0-1).\n",
            "portaudio19-dev is already the newest version (19.6.0-1).\n",
            "libasound2-dev is already the newest version (1.1.3-5ubuntu0.5).\n",
            "ffmpeg is already the newest version (7:3.4.8-0ubuntu0.2).\n",
            "0 upgraded, 0 newly installed, 0 to remove and 29 not upgraded.\n"
          ],
          "name": "stdout"
        }
      ]
    },
    {
      "cell_type": "code",
      "metadata": {
        "id": "kc6HzPzNG0c1"
      },
      "source": [
        "recog = sr.Recognizer()"
      ],
      "execution_count": 2,
      "outputs": []
    },
    {
      "cell_type": "code",
      "metadata": {
        "id": "8Gzn6O7eG0c1"
      },
      "source": [
        "?recog.record"
      ],
      "execution_count": 3,
      "outputs": []
    },
    {
      "cell_type": "code",
      "metadata": {
        "collapsed": true,
        "colab": {
          "base_uri": "https://localhost:8080/"
        },
        "id": "pariWI58G0c1",
        "outputId": "85c28385-0b57-4354-dec3-ef0912d0d2ad"
      },
      "source": [
        "dir(recog)"
      ],
      "execution_count": 4,
      "outputs": [
        {
          "output_type": "execute_result",
          "data": {
            "text/plain": [
              "['__class__',\n",
              " '__delattr__',\n",
              " '__dict__',\n",
              " '__dir__',\n",
              " '__doc__',\n",
              " '__enter__',\n",
              " '__eq__',\n",
              " '__exit__',\n",
              " '__format__',\n",
              " '__ge__',\n",
              " '__getattribute__',\n",
              " '__gt__',\n",
              " '__hash__',\n",
              " '__init__',\n",
              " '__init_subclass__',\n",
              " '__le__',\n",
              " '__lt__',\n",
              " '__module__',\n",
              " '__ne__',\n",
              " '__new__',\n",
              " '__reduce__',\n",
              " '__reduce_ex__',\n",
              " '__repr__',\n",
              " '__setattr__',\n",
              " '__sizeof__',\n",
              " '__str__',\n",
              " '__subclasshook__',\n",
              " '__weakref__',\n",
              " 'adjust_for_ambient_noise',\n",
              " 'dynamic_energy_adjustment_damping',\n",
              " 'dynamic_energy_ratio',\n",
              " 'dynamic_energy_threshold',\n",
              " 'energy_threshold',\n",
              " 'listen',\n",
              " 'listen_in_background',\n",
              " 'non_speaking_duration',\n",
              " 'operation_timeout',\n",
              " 'pause_threshold',\n",
              " 'phrase_threshold',\n",
              " 'recognize_api',\n",
              " 'recognize_bing',\n",
              " 'recognize_google',\n",
              " 'recognize_google_cloud',\n",
              " 'recognize_houndify',\n",
              " 'recognize_ibm',\n",
              " 'recognize_sphinx',\n",
              " 'recognize_wit',\n",
              " 'record',\n",
              " 'snowboy_wait_for_hot_word']"
            ]
          },
          "metadata": {
            "tags": []
          },
          "execution_count": 4
        }
      ]
    },
    {
      "cell_type": "markdown",
      "metadata": {
        "id": "xsceH4-lG0c3"
      },
      "source": [
        "### 2. Load the given audio file \"Recording2.wav\" - this contains a sample audio for you to get comfortable with the module, use the 'AudioFile' method"
      ]
    },
    {
      "cell_type": "code",
      "metadata": {
        "id": "GZU1pIAKG0c3"
      },
      "source": [
        "samp = sr.AudioFile(\"Recording2.wav\")\r\n"
      ],
      "execution_count": 5,
      "outputs": []
    },
    {
      "cell_type": "markdown",
      "metadata": {
        "id": "9JWWJRjSG0c3"
      },
      "source": [
        "### 3. With this as source, 'record' the audio from the file"
      ]
    },
    {
      "cell_type": "code",
      "metadata": {
        "id": "NXZtpMoxG0c3"
      },
      "source": [
        "with samp as source:\n",
        "    audio = recog.record(samp)"
      ],
      "execution_count": 6,
      "outputs": []
    },
    {
      "cell_type": "markdown",
      "metadata": {
        "id": "SUi_SggyG0c3"
      },
      "source": [
        "### 4. Using 'recognize_google' method, convert the audio to text"
      ]
    },
    {
      "cell_type": "code",
      "metadata": {
        "id": "FvYy2ek7G0c3"
      },
      "source": [
        "res = recog.recognize_google(audio)"
      ],
      "execution_count": 7,
      "outputs": []
    },
    {
      "cell_type": "code",
      "metadata": {
        "colab": {
          "base_uri": "https://localhost:8080/",
          "height": 35
        },
        "id": "mIR69SjCG0c3",
        "outputId": "3e34750c-02fe-4cc0-e227-f69f462fb3e1"
      },
      "source": [
        "res"
      ],
      "execution_count": 8,
      "outputs": [
        {
          "output_type": "execute_result",
          "data": {
            "application/vnd.google.colaboratory.intrinsic+json": {
              "type": "string"
            },
            "text/plain": [
              "'I am so happy to make my first speech-to-text converter'"
            ]
          },
          "metadata": {
            "tags": []
          },
          "execution_count": 8
        }
      ]
    },
    {
      "cell_type": "markdown",
      "metadata": {
        "id": "mxbeQcFVG0c3"
      },
      "source": [
        "### 5. Create a function to return the text for any given audio file (.wav format) as input"
      ]
    },
    {
      "cell_type": "code",
      "metadata": {
        "id": "pZ1kHm2ZG0c3"
      },
      "source": [
        "def speech_to_text(file):\n",
        "    samp = sr.AudioFile(file)\n",
        "    \n",
        "    with samp as source:\n",
        "        audio = recog.record(samp)\n",
        "    \n",
        "    return recog.recognize_google(audio)"
      ],
      "execution_count": 9,
      "outputs": []
    },
    {
      "cell_type": "markdown",
      "metadata": {
        "id": "nwSJUdaIG0c3"
      },
      "source": [
        "### 6. Apply this function to the file 'Tap Review.wav' to extract the text from the audio review from the Amazon Tap focus group discsussions"
      ]
    },
    {
      "cell_type": "code",
      "metadata": {
        "id": "VlBpRzqdG0c3"
      },
      "source": [
        "op_text =  speech_to_text(\"Tap Review.wav\")"
      ],
      "execution_count": 10,
      "outputs": []
    },
    {
      "cell_type": "code",
      "metadata": {
        "id": "orek4SzdG0c3",
        "colab": {
          "base_uri": "https://localhost:8080/",
          "height": 53
        },
        "outputId": "939e2b36-f6b7-4ee7-dbc9-542f40807e11"
      },
      "source": [
        "op_text"
      ],
      "execution_count": 11,
      "outputs": [
        {
          "output_type": "execute_result",
          "data": {
            "application/vnd.google.colaboratory.intrinsic+json": {
              "type": "string"
            },
            "text/plain": [
              "'I love this little Bluetooth speaker the Bluetooth connectivity is good sound quality is amazing I listen to music all the time and I use Alexa all the time'"
            ]
          },
          "metadata": {
            "tags": []
          },
          "execution_count": 11
        }
      ]
    },
    {
      "cell_type": "markdown",
      "metadata": {
        "id": "OabAMePdG0c4"
      },
      "source": [
        "### 7. Pre-process the text - tokenize into individual terms using NLTKs word_tokenize"
      ]
    },
    {
      "cell_type": "code",
      "metadata": {
        "id": "zOObObS4G0c4",
        "colab": {
          "base_uri": "https://localhost:8080/"
        },
        "outputId": "1a229976-724d-4e88-a3fc-c8189cf0b9ce"
      },
      "source": [
        "import nltk\n",
        "nltk.download('punkt')\n",
        "\n",
        "from nltk.tokenize import word_tokenize"
      ],
      "execution_count": 12,
      "outputs": [
        {
          "output_type": "stream",
          "text": [
            "[nltk_data] Downloading package punkt to /root/nltk_data...\n",
            "[nltk_data]   Unzipping tokenizers/punkt.zip.\n"
          ],
          "name": "stdout"
        }
      ]
    },
    {
      "cell_type": "code",
      "metadata": {
        "id": "MorETAj6G0c4",
        "colab": {
          "base_uri": "https://localhost:8080/"
        },
        "outputId": "2cfe1e0f-4f08-4873-a4c1-0c2597057bc0"
      },
      "source": [
        "tokens = word_tokenize(op_text.lower())\n",
        "tokens"
      ],
      "execution_count": 13,
      "outputs": [
        {
          "output_type": "execute_result",
          "data": {
            "text/plain": [
              "['i',\n",
              " 'love',\n",
              " 'this',\n",
              " 'little',\n",
              " 'bluetooth',\n",
              " 'speaker',\n",
              " 'the',\n",
              " 'bluetooth',\n",
              " 'connectivity',\n",
              " 'is',\n",
              " 'good',\n",
              " 'sound',\n",
              " 'quality',\n",
              " 'is',\n",
              " 'amazing',\n",
              " 'i',\n",
              " 'listen',\n",
              " 'to',\n",
              " 'music',\n",
              " 'all',\n",
              " 'the',\n",
              " 'time',\n",
              " 'and',\n",
              " 'i',\n",
              " 'use',\n",
              " 'alexa',\n",
              " 'all',\n",
              " 'the',\n",
              " 'time']"
            ]
          },
          "metadata": {
            "tags": []
          },
          "execution_count": 13
        }
      ]
    },
    {
      "cell_type": "markdown",
      "metadata": {
        "id": "RfmkClksG0c4"
      },
      "source": [
        "### 8. Define feature_list as list of features of the product, containing the following terms -\n",
        " - \"echo\", \"alexa\", \"music\", \"sound\", \"button\",\"bluetooth\", \"voice\", \"battery\", \"dot\", \"phone\"\n"
      ]
    },
    {
      "cell_type": "markdown",
      "metadata": {
        "id": "shBZg37hG0c4"
      },
      "source": [
        "From an earlier exercise, we had identified the top feautures for Amazon tap. This will be our list of features.\n",
        "We need to find which of these features are being talked of in this audio review of the product."
      ]
    },
    {
      "cell_type": "code",
      "metadata": {
        "id": "eTW5awHwG0c4"
      },
      "source": [
        "feature_list = [\"echo\", \"alexa\", \"music\", \"sound\", \"button\",\"bluetooth\", \"voice\", \"battery\", \"dot\", \"phone\"]"
      ],
      "execution_count": 14,
      "outputs": []
    },
    {
      "cell_type": "markdown",
      "metadata": {
        "id": "LmCjdSfDG0c4"
      },
      "source": [
        "### 9. Identify which of the features are being talked of in the audio review "
      ]
    },
    {
      "cell_type": "code",
      "metadata": {
        "id": "qLgpi0FHG0c4"
      },
      "source": [
        "review_features = [term for term in tokens if term in feature_list]"
      ],
      "execution_count": 15,
      "outputs": []
    },
    {
      "cell_type": "code",
      "metadata": {
        "id": "MNJBxHedG0c4",
        "colab": {
          "base_uri": "https://localhost:8080/"
        },
        "outputId": "361f26c5-0348-48f9-c11a-871b7f9d414c"
      },
      "source": [
        "review_features"
      ],
      "execution_count": 16,
      "outputs": [
        {
          "output_type": "execute_result",
          "data": {
            "text/plain": [
              "['bluetooth', 'bluetooth', 'sound', 'music', 'alexa']"
            ]
          },
          "metadata": {
            "tags": []
          },
          "execution_count": 16
        }
      ]
    },
    {
      "cell_type": "code",
      "metadata": {
        "id": "DSMssInZG0c4"
      },
      "source": [
        "review_features = list(set(review_features))"
      ],
      "execution_count": 17,
      "outputs": []
    },
    {
      "cell_type": "code",
      "metadata": {
        "id": "Dacr3dihG0c4",
        "colab": {
          "base_uri": "https://localhost:8080/"
        },
        "outputId": "1fe5545b-85cc-48f2-b1e7-2ff20207b560"
      },
      "source": [
        "review_features"
      ],
      "execution_count": 18,
      "outputs": [
        {
          "output_type": "execute_result",
          "data": {
            "text/plain": [
              "['music', 'alexa', 'bluetooth', 'sound']"
            ]
          },
          "metadata": {
            "tags": []
          },
          "execution_count": 18
        }
      ]
    },
    {
      "cell_type": "markdown",
      "metadata": {
        "id": "xQzK9fNlG0c4"
      },
      "source": [
        "10. Recording from mic using the Microphone method \n",
        " - instantiate\n",
        " - with the mic as source, 'listen' to the mic - you can say anything you like using your own microphone\n",
        " - speak a dummy review into the microphone, use the function from earlier to identify the product features being discussed in the audio"
      ]
    },
    {
      "cell_type": "code",
      "metadata": {
        "id": "tHLuYfXfGyjE"
      },
      "source": [
        "!pip install pyAudio\r\n",
        "mic = sr.Microphone()"
      ],
      "execution_count": null,
      "outputs": []
    },
    {
      "cell_type": "code",
      "metadata": {
        "id": "4icZA2FuGwKi"
      },
      "source": [
        "mic.list_microphone_names()"
      ],
      "execution_count": null,
      "outputs": []
    },
    {
      "cell_type": "code",
      "metadata": {
        "id": "RvQJZAWkG0c4"
      },
      "source": [
        "with mic as source:\n",
        "    audio = recog.listen(source)"
      ],
      "execution_count": null,
      "outputs": []
    },
    {
      "cell_type": "code",
      "metadata": {
        "id": "1TsOS_e5G0c4"
      },
      "source": [
        "recog.recognize_google(audio)"
      ],
      "execution_count": null,
      "outputs": []
    },
    {
      "cell_type": "code",
      "metadata": {
        "id": "HdfgPGX7G0c4"
      },
      "source": [
        "with mic as source:\n",
        "    audio = recog.listen(source)"
      ],
      "execution_count": null,
      "outputs": []
    },
    {
      "cell_type": "code",
      "metadata": {
        "id": "C8i5-VXmG0c4"
      },
      "source": [
        "recog.recognize_google(audio)"
      ],
      "execution_count": null,
      "outputs": []
    },
    {
      "cell_type": "code",
      "metadata": {
        "id": "PZZ04v-MG0c4"
      },
      "source": [
        "def get_review_features(review_text):\n",
        "    feature_list = [\"echo\", \"alexa\", \"music\", \"sound\", \"button\",\"bluetooth\", \"voice\", \"battery\", \"dot\", \"phone\"]\n",
        "    tokens = word_tokenize(review_text.lower())\n",
        "    review_features = [term for term in tokens if term in feature_list]\n",
        "    review_features = list(set(review_features))\n",
        "    return review_features"
      ],
      "execution_count": null,
      "outputs": []
    },
    {
      "cell_type": "code",
      "metadata": {
        "id": "2xEF52boG0c4"
      },
      "source": [
        "res = recog.recognize_google(audio)"
      ],
      "execution_count": null,
      "outputs": []
    },
    {
      "cell_type": "code",
      "metadata": {
        "id": "KKqcVy7pG0c4"
      },
      "source": [
        "get_review_features(res)"
      ],
      "execution_count": null,
      "outputs": []
    }
  ]
}